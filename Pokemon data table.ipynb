{
 "cells": [
  {
   "cell_type": "code",
   "execution_count": 5,
   "metadata": {},
   "outputs": [],
   "source": [
    "import pandas as pd\n",
    "import requests"
   ]
  },
  {
   "cell_type": "code",
   "execution_count": null,
   "metadata": {},
   "outputs": [],
   "source": [
    "# API request function\n",
    "\n",
    "def getPokemonData(endpoint):\n",
    "    base_url = \"https://pokeapi.co/api/v2/pokemon/\"\n",
    "    url = base_url + endpoint\n",
    "    r = requests.get(url)\n",
    "    return r.json()"
   ]
  },
  {
   "cell_type": "code",
   "execution_count": null,
   "metadata": {},
   "outputs": [],
   "source": [
    "# Function used to separate pokemon into their respective regions by their ids\n",
    "\n",
    "pokemon_ids = range(1, 650)\n",
    "\n",
    "regions = {\n",
    "    'Kanto': range(1, 152),\n",
    "    'Johto': range(152, 252),\n",
    "    'Hoenn': range(252, 387),\n",
    "    'Sinnoh': range(387, 494),\n",
    "    'Unova': range(494, 650)\n",
    "}\n",
    "\n",
    "def getRegion(pokemon_id):\n",
    "    for region, id_range in regions.items():\n",
    "        if pokemon_id in id_range:\n",
    "            return region\n",
    "    return None"
   ]
  },
  {
   "cell_type": "code",
   "execution_count": null,
   "metadata": {},
   "outputs": [],
   "source": [
    "# Data-gathering:\n",
    "\n",
    "data = []\n",
    "for pokemon_id in pokemon_ids:\n",
    "    pokemon_data = getPokemonData(str(pokemon_id))\n",
    "\n",
    "    if pokemon_data:\n",
    "        name = pokemon_data['name'].capitalize()\n",
    "        height = pokemon_data['height'] / 10 # convert to meters\n",
    "        weight = pokemon_data['weight'] / 10 # convert to kilograms\n",
    "        types = [t['type']['name'] for t in pokemon_data['types']]\n",
    "        region = getRegion(pokemon_id)\n",
    "        \n",
    "        data.append({'pokemon': name, 'height': height, 'weight': weight, 'types': types, 'region': region})"
   ]
  },
  {
   "cell_type": "code",
   "execution_count": 8,
   "metadata": {},
   "outputs": [],
   "source": [
    "# Expand the resultant dataframe to show pokemon with multiple types\n",
    "\n",
    "df = pd.DataFrame(data)\n",
    "df_multitype = df.explode('types')"
   ]
  },
  {
   "cell_type": "code",
   "execution_count": 9,
   "metadata": {},
   "outputs": [],
   "source": [
    "df_multitype.to_csv(\"pokemondata.csv\")"
   ]
  }
 ],
 "metadata": {
  "kernelspec": {
   "display_name": "Python 3",
   "language": "python",
   "name": "python3"
  },
  "language_info": {
   "codemirror_mode": {
    "name": "ipython",
    "version": 3
   },
   "file_extension": ".py",
   "mimetype": "text/x-python",
   "name": "python",
   "nbconvert_exporter": "python",
   "pygments_lexer": "ipython3",
   "version": "3.12.7"
  }
 },
 "nbformat": 4,
 "nbformat_minor": 2
}
